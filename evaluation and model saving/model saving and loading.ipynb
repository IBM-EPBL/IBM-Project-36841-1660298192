{
 "cells": [
  {
   "cell_type": "code",
   "execution_count": 1,
   "id": "8203364d",
   "metadata": {},
   "outputs": [],
   "source": [
    "from keras.preprocessing.image import ImageDataGenerator\n",
    "import cv2\n",
    "from os import listdir\n",
    "import time"
   ]
  },
  {
   "cell_type": "code",
   "execution_count": 2,
   "id": "21884b1f",
   "metadata": {},
   "outputs": [],
   "source": [
    "def hms_string(sec_elapsed):\n",
    "    h = int(sec_elapsed / (60 * 60))\n",
    "    m = int((sec_elapsed % (60 * 60)) / 60)\n",
    "    s = sec_elapsed % 60\n",
    "    return f\"{h}:{m}:{round(s,1)}\""
   ]
  },
  {
   "cell_type": "code",
   "execution_count": 6,
   "id": "da5c9d8b",
   "metadata": {},
   "outputs": [],
   "source": [
    "def augment_data(file_dir, n_generated_samples, save_to_dir):\n",
    "    data_gen = ImageDataGenerator(rotation_range=30, \n",
    "                                  width_shift_range=0.1,\n",
    "                                  height_shift_range=0.15, \n",
    "                                  shear_range=0.25, \n",
    "                                  zoom_range = 0.2,\n",
    "                                  horizontal_flip=True, \n",
    "                                  vertical_flip=False, \n",
    "                                  fill_mode='nearest',\n",
    "                                  brightness_range=(0.5,1.2)\n",
    "                                 )"
   ]
  },
  {
   "cell_type": "code",
   "execution_count": 1,
   "id": "44a001a1",
   "metadata": {},
   "outputs": [
    {
     "ename": "NameError",
     "evalue": "name 'listdir' is not defined",
     "output_type": "error",
     "traceback": [
      "\u001b[1;31m---------------------------------------------------------------------------\u001b[0m",
      "\u001b[1;31mNameError\u001b[0m                                 Traceback (most recent call last)",
      "\u001b[1;32m~\\AppData\\Local\\Temp\\ipykernel_4276\\63086524.py\u001b[0m in \u001b[0;36m<module>\u001b[1;34m\u001b[0m\n\u001b[1;32m----> 1\u001b[1;33m \u001b[1;32mfor\u001b[0m \u001b[0mfilename\u001b[0m \u001b[1;32min\u001b[0m \u001b[0mlistdir\u001b[0m\u001b[1;33m(\u001b[0m\u001b[0mfile_dir\u001b[0m\u001b[1;33m)\u001b[0m\u001b[1;33m:\u001b[0m\u001b[1;33m\u001b[0m\u001b[1;33m\u001b[0m\u001b[0m\n\u001b[0m\u001b[0;32m      2\u001b[0m         \u001b[0mimage\u001b[0m \u001b[1;33m=\u001b[0m \u001b[0mcv2\u001b[0m\u001b[1;33m.\u001b[0m\u001b[0mimread\u001b[0m\u001b[1;33m(\u001b[0m\u001b[0mfile_dir\u001b[0m \u001b[1;33m+\u001b[0m \u001b[1;34m'/'\u001b[0m \u001b[1;33m+\u001b[0m \u001b[0mfilename\u001b[0m\u001b[1;33m)\u001b[0m\u001b[1;33m\u001b[0m\u001b[1;33m\u001b[0m\u001b[0m\n\u001b[0;32m      3\u001b[0m         \u001b[0mimage\u001b[0m \u001b[1;33m=\u001b[0m \u001b[0mcv2\u001b[0m\u001b[1;33m.\u001b[0m\u001b[0mcvtColor\u001b[0m\u001b[1;33m(\u001b[0m\u001b[0mimage\u001b[0m\u001b[1;33m,\u001b[0m\u001b[0mcv2\u001b[0m\u001b[1;33m.\u001b[0m\u001b[0mCOLOR_BGR2RGB\u001b[0m\u001b[1;33m)\u001b[0m\u001b[1;33m\u001b[0m\u001b[1;33m\u001b[0m\u001b[0m\n\u001b[0;32m      4\u001b[0m         \u001b[0mimage\u001b[0m \u001b[1;33m=\u001b[0m \u001b[0mimage\u001b[0m\u001b[1;33m.\u001b[0m\u001b[0mreshape\u001b[0m\u001b[1;33m(\u001b[0m\u001b[1;33m(\u001b[0m\u001b[1;36m1\u001b[0m\u001b[1;33m,\u001b[0m\u001b[1;33m)\u001b[0m\u001b[1;33m+\u001b[0m\u001b[0mimage\u001b[0m\u001b[1;33m.\u001b[0m\u001b[0mshape\u001b[0m\u001b[1;33m)\u001b[0m\u001b[1;33m\u001b[0m\u001b[1;33m\u001b[0m\u001b[0m\n\u001b[0;32m      5\u001b[0m         \u001b[0msave_prefix\u001b[0m \u001b[1;33m=\u001b[0m \u001b[1;34m'aug_'\u001b[0m \u001b[1;33m+\u001b[0m \u001b[0mfilename\u001b[0m\u001b[1;33m[\u001b[0m\u001b[1;33m:\u001b[0m\u001b[1;33m-\u001b[0m\u001b[1;36m4\u001b[0m\u001b[1;33m]\u001b[0m\u001b[1;33m\u001b[0m\u001b[1;33m\u001b[0m\u001b[0m\n",
      "\u001b[1;31mNameError\u001b[0m: name 'listdir' is not defined"
     ]
    }
   ],
   "source": [
    "for filename in listdir(file_dir):\n",
    "        image = cv2.imread(file_dir + '/' + filename)\n",
    "        image = cv2.cvtColor(image,cv2.COLOR_BGR2RGB)\n",
    "        image = image.reshape((1,)+image.shape)\n",
    "        save_prefix = 'aug_' + filename[:-4]    \n",
    "        i=0\n",
    "        for batch in data_gen.flow(x=image, batch_size=1, save_to_dir=save_to_dir,\n",
    "                                   save_prefix=save_prefix, save_format='jpg'):\n",
    "            i += 1\n",
    "            if i > n_generated_samples:\n",
    "                break\n",
    "            "
   ]
  },
  {
   "cell_type": "code",
   "execution_count": null,
   "id": "5e316586",
   "metadata": {},
   "outputs": [],
   "source": [
    "end_time = time.time()\n",
    "execution_time = (end_time - start_time)\n",
    "print(f\"Elapsed time: {hms_string(execution_time)}\")"
   ]
  },
  {
   "cell_type": "code",
   "execution_count": 9,
   "id": "c9ba2ff9",
   "metadata": {},
   "outputs": [],
   "source": [
    "import numpy as np\n",
    "import tensorflow as tf\n",
    "import keras\n",
    "import keras.backend as k"
   ]
  },
  {
   "cell_type": "code",
   "execution_count": null,
   "id": "1308f4fe",
   "metadata": {},
   "outputs": [],
   "source": [
    "from keras.optimizers import SGD, Adam, Adagard, RMSprop\n",
    "from keras.applications import*\n",
    "from keras.preprocessing import*\n",
    "from keras.preprocessing.image import ImageDataGennerator, array_to_img, img_to_array, load_img\n",
    "from keras.callbacks import EarlyStopping, ModelCheckpoint\n",
    "from keras.models import Sequential\n",
    "from keras.layers import Dense, Conv2D, MaxPool2D, Flatten, Activation, BatchNormalization, Dropout\n",
    "from keras.utils.np_utils import to categorical\n",
    "from sklearn.model_selection import train_test_split"
   ]
  },
  {
   "cell_type": "code",
   "execution_count": 11,
   "id": "8ab4a3da",
   "metadata": {},
   "outputs": [],
   "source": [
    "import matplotlib.pyplot as plt"
   ]
  },
  {
   "cell_type": "code",
   "execution_count": 12,
   "id": "929b379f",
   "metadata": {},
   "outputs": [],
   "source": [
    "import glob\n",
    "from PIL import Image\n",
    "import os\n",
    "from os import listdir"
   ]
  },
  {
   "cell_type": "code",
   "execution_count": null,
   "id": "94a93360",
   "metadata": {},
   "outputs": [],
   "source": [
    "dirName = 'D:TSB Projects/Digital Naturalist/augument data'\n",
    "folders = listdir(dirName)"
   ]
  },
  {
   "cell_type": "code",
   "execution_count": null,
   "id": "ead3f521",
   "metadata": {},
   "outputs": [],
   "source": [
    "def getListOfFiles (dirName):"
   ]
  },
  {
   "cell_type": "code",
   "execution_count": null,
   "id": "b0b74b9c",
   "metadata": {},
   "outputs": [],
   "source": [
    "listOfFile = os.listdir(dirName)\n",
    "allFiles List()\n",
    "for fol name in listOfFile:\n",
    "fullPath = os.path.join (dirName, fol_name) \n",
    "allFiles.append(fullPath)\n",
    "return allFiles\n",
    "Folders = getListOfFiles(dirName)\n",
    "len (Folders)\n",
    "subfolders = []\n",
    "for num in range(len(Folders)):\n",
    "sub_fols = getListOfFiles (Folders[num])\n",
    "subfolders+=sub_fols\n",
    "subfolders"
   ]
  },
  {
   "cell_type": "code",
   "execution_count": 16,
   "id": "fe5ddaa6",
   "metadata": {},
   "outputs": [],
   "source": [
    "X_data = []\n",
    "Y_data = []\n",
    "id_no=0"
   ]
  },
  {
   "cell_type": "code",
   "execution_count": 17,
   "id": "2a3cd845",
   "metadata": {},
   "outputs": [],
   "source": [
    "found = []"
   ]
  },
  {
   "cell_type": "code",
   "execution_count": null,
   "id": "d9da2268",
   "metadata": {},
   "outputs": [],
   "source": [
    "for paths in subfolders:\n",
    "    files = glob.glob (paths + \"/*.jpg\")\n",
    "    found.append((paths.split('||')[-2],paths.split('||')[-1]))"
   ]
  },
  {
   "cell_type": "code",
   "execution_count": null,
   "id": "30104eb6",
   "metadata": {},
   "outputs": [],
   "source": [
    "for myfile in Files:\n",
    "    img = Image.open(myfile)\n",
    "    "
   ]
  },
  {
   "cell_type": "code",
   "execution_count": null,
   "id": "5835aa60",
   "metadata": {},
   "outputs": [],
   "source": [
    "img = img.resize((224,224), Image.ANTIALIAS) \n"
   ]
  },
  {
   "cell_type": "code",
   "execution_count": null,
   "id": "766840c2",
   "metadata": {},
   "outputs": [],
   "source": [
    "X_data.append (img)\n",
    "Y_data.append (id_no)\n",
    "id_no+=1"
   ]
  },
  {
   "cell_type": "code",
   "execution_count": null,
   "id": "8dc1177f",
   "metadata": {},
   "outputs": [],
   "source": [
    "print(X_data)\n",
    "print(Y_data)\n",
    "X = np.array(X_data)\n",
    "Y = np.array(Y_data)\n",
    "print(\"x shape\", X.shape, \"y shape\", Y. shape)\n",
    "\n",
    "X = X.astype('float32')/255.0\n",
    "Y_cat = to_categorical (Y_data, len(subfolders))\n",
    "\n",
    "print(\"X shape\",X, \"y cat shape\", y_cat)\n",
    "print(\"X shape\", X. shape, \"y_cat shape\", y_cat.shape)\n",
    "\n",
    "X train, X_test, y_train, y_test = train_test_split(x, y_cat, test_size=0.2) \n",
    "print(\"The model has \" + str(len(x_train)) + inputs\")"
   ]
  },
  {
   "cell_type": "code",
   "execution_count": null,
   "id": "30dc8d32",
   "metadata": {},
   "outputs": [],
   "source": [
    "early_stop_loss = EarlyStopping(monitor='loss', patience=3, verbose=1)\n",
    "early_stop_val_acc = EarlyStopping(monitor='val accuracy', patience=3, verbose=1)\n",
    "model_callbacks=[early_stop_loss, early_stop_val_acc]"
   ]
  },
  {
   "cell_type": "code",
   "execution_count": null,
   "id": "4f982ad5",
   "metadata": {},
   "outputs": [],
   "source": [
    "def Load CNN (output size):\n",
    "\n",
    "K.clear session()\n",
    "\n",
    "model Sequential()\n",
    "\n",
    "model.add(Dropout (0.4, input shape (224, 224, 3)))\n",
    "\n",
    "model.add(Conv20(256, (5, 5).input_shape=(224, 224, 3).activation='retu'))\n",
    "\n",
    "model.add(MaxPool2D(pool_size=(2, 2))) \n",
    "\n",
    "model.add(Conv2D(128, (3, 3), activation rolu\"))\n",
    "model.add(MaxPool 2D (pool_size=(2, 2))) \n",
    "\n",
    "model.add(Conv20(64, (3, 3), activation='relu'))\n",
    "model.add(MaxPool2D (pool_size=(2, 2)))\n",
    "\n",
    "\n",
    "\n",
    "model.add(Flatten())\n",
    "\n",
    "model.add(Dense(512, activation='relu')) \n",
    "model.add(Dropout (0.3))\n",
    "model.add(Dense(256, activation='relu'))\n",
    "model.add(Dropout (0.3))\n",
    "model.add(Dense(128, activation='relu'))\n",
    "model.add(Dropout (0.3))\n",
    "                 \n",
    "model.add(Dense(output_size, activation='softmax'))\n",
    "\n",
    "return modelimg = np.array(img)\n",
    "if img.Shape == ( 224, 224, 3) \n",
    "def Load CNN (output size):\n",
    "\n",
    "K.clear session()\n",
    "\n",
    "model Sequential()\n",
    "\n",
    "model.add(Dropout (0.4, input shape (224, 224, 3)))\n",
    "\n",
    "model.add(Conv20(256, (5, 5).input_shape=(224, 224, 3).activation='retu'))\n",
    "\n",
    "model.add(MaxPool2D(pool_size=(2, 2))) \n",
    "\n",
    "model.add(Conv2D(128, (3, 3), activation rolu\"))\n",
    "model.add(MaxPool 2D (pool_size=(2, 2))) \n",
    "\n",
    "model.add(Conv20(64, (3, 3), activation='relu'))\n",
    "model.add(MaxPool2D (pool_size=(2, 2)))\n",
    "\n",
    "\n",
    "\n",
    "model.add(Flatten())\n",
    "\n",
    "model.add(Dense(512, activation='relu')) \n",
    "model.add(Dropout (0.3))\n",
    "model.add(Dense(256, activation='relu'))\n",
    "model.add(Dropout (0.3))\n",
    "model.add(Dense(128, activation='relu'))\n",
    "model.add(Dropout (0.3))\n",
    "                 \n",
    "model.add(Dense(output_size, activation='softmax'))\n",
    "\n",
    "return model"
   ]
  },
  {
   "cell_type": "code",
   "execution_count": null,
   "id": "3783fe94",
   "metadata": {},
   "outputs": [],
   "source": [
    "model = load_CNN (6) \n",
    "model.compile(loss=' categorical_crossentropy', optimizer=Adam (lr=0.001), metrics=['accuracy'])\n",
    "model.summary() \n",
    "weights = model.get_weights()"
   ]
  },
  {
   "cell_type": "code",
   "execution_count": null,
   "id": "5c08c320",
   "metadata": {},
   "outputs": [],
   "source": [
    "histories_acc = []\n",
    "\n",
    "histories_val_acc = []\n",
    "\n",
    "histories loss = []\n",
    "\n",
    "histories_val_loss = []"
   ]
  },
  {
   "cell_type": "code",
   "execution_count": null,
   "id": "9a9790df",
   "metadata": {},
   "outputs": [],
   "source": [
    "model.set_weights (weights) h=model.fit(x_train, y_train,\n",
    "\n",
    "batch_size=16,\n",
    "\n",
    "epochs=7,\n",
    "\n",
    "verbose=1,\n",
    "\n",
    "callbacks=[early_stop_loss],\n",
    "\n",
    "shuffle=True,\n",
    "\n",
    "validation_data=(X_test, y_test))\n",
    "\n",
    "model.summary()"
   ]
  },
  {
   "cell_type": "code",
   "execution_count": null,
   "id": "50b76113",
   "metadata": {},
   "outputs": [],
   "source": [
    "print(h.history.keys())\n",
    "\n",
    "histories acc.append(h.history['acc'])\n",
    "histories_val_acc.append(h.history['val_acc'])\n",
    "histories_loss.append(h.history['loss'])\n",
    "histories_val_loss.append(h.history['val_loss']\n",
    "\n",
    "histories_acc = np.array(histories_acc)\n",
    "histories_val_acc = np.array (histories_val_acc)\n",
    "histories_loss = np.array (histories_loss)\n",
    "histories_val_loss = np.array(histories_val_loss)\n",
    "\n",
    "\n",
    "\n",
    "print('histories_acc',histories_acc, \n",
    "      'histories_loss', histories_loss,\n",
    "      'histories_val_acc', histories_val_acc, \n",
    "      'histories_val_loss', histories_val_loss)"
   ]
  },
  {
   "cell_type": "code",
   "execution_count": null,
   "id": "de7ecefe",
   "metadata": {},
   "outputs": [],
   "source": [
    "predictions = model.predict proba(IX_test[image_number].reshape(1, 224,224,3)1)\n",
    "\n",
    "for idx, result, x in zip(range(8,6), found, predictions [0]):\n",
    "    print(\"Label: 1. Type: 1. Species: (), Score: %.format(idx, result[0], result[1], round(x*100,3)))\n",
    "          \n",
    "          Class Index=model predict classes ([X_test[image_number].reshape(1, 224,224,3)])\n",
    "\n",
    "\n",
    "          Class Index\n",
    "\n",
    "print(found[ClassIndex[0]])"
   ]
  },
  {
   "cell_type": "code",
   "execution_count": null,
   "id": "758d9791",
   "metadata": {},
   "outputs": [],
   "source": [
    "image_number = np.random.randint(0,len (X_test))\n",
    "print(image_number)"
   ]
  },
  {
   "cell_type": "code",
   "execution_count": null,
   "id": "f79f3875",
   "metadata": {},
   "outputs": [],
   "source": [
    "plt.figure(figsize=(8, 8)) \n",
    "plt.imshow(X_test[image_number])"
   ]
  },
  {
   "cell_type": "code",
   "execution_count": null,
   "id": "576baa96",
   "metadata": {},
   "outputs": [],
   "source": [
    "model json = model.to_json()\n",
    "with open(\"final_model.json\", \"w\") as json_file: \n",
    "    json_file.write(model_json)\n",
    "\n",
    "model.save_weights(\"final_model.h5\") \n",
    "print(\"Saved model to disk\")"
   ]
  }
 ],
 "metadata": {
  "kernelspec": {
   "display_name": "Python 3 (ipykernel)",
   "language": "python",
   "name": "python3"
  },
  "language_info": {
   "codemirror_mode": {
    "name": "ipython",
    "version": 3
   },
   "file_extension": ".py",
   "mimetype": "text/x-python",
   "name": "python",
   "nbconvert_exporter": "python",
   "pygments_lexer": "ipython3",
   "version": "3.9.13"
  }
 },
 "nbformat": 4,
 "nbformat_minor": 5
}
