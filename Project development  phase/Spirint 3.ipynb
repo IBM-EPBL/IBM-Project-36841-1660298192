{
 "cells": [
  {
   "cell_type": "code",
   "execution_count": null,
   "id": "891cf0b6",
   "metadata": {},
   "outputs": [],
   "source": [
    "{\n",
    " \"cells\": [\n",
    "  {\n",
    "   \"cell_type\": \"code\",\n",
    "   \"execution_count\": null,\n",
    "   \"id\": \"a988a44c\",\n",
    "   \"metadata\": {},\n",
    "   \"outputs\": [],\n",
    "   \"source\": [\n",
    "    \"from future import division, print_function\\n\",\n",
    "    \"\\n\",\n",
    "    \"import os\\n\",\n",
    "    \"\\n\",\n",
    "    \"import numpy as np\\n\",\n",
    "    \"import tensorflow as tf\\n\",\n",
    "    \"from flask import Flask, redirect, render_template, request\\n\",\n",
    "    \"from keras.applications.inception_v3 import preprocess_input\\n\",\n",
    "    \"from keras.models import model_from_json\\n\",\n",
    "    \"from werkzeug.utils import secure_filename\\n\",\n",
    "    \"\\n\",\n",
    "    \"global graph\\n\",\n",
    "    \"graph=tf.compat.v1.get_default_graph()\\n\",\n",
    "    \"#this list is used to log the predictions in the server console\\n\",\n",
    "    \"predictions = [\\\"Corpse Flower\\\", \\n\",\n",
    "    \"               \\\"Great Indian Bustard\\\", \\n\",\n",
    "    \"               \\\"Lady's slipper orchid\\\", \\n\",\n",
    "    \"               \\\"Pangolin\\\", \\n\",\n",
    "    \"               \\\"Spoon Billed Sandpiper\\\", \\n\",\n",
    "    \"               \\\"Seneca White Deer\\\"\\n\",\n",
    "    \"              ]\\n\",\n",
    "    \"#this list contains the link to the predicted species              \\n\",\n",
    "    \"found = [\\n\",\n",
    "    \"        \\\"https://en.wikipedia.org/wiki/Amorphophallus_titanum\\\",\\n\",\n",
    "    \"        \\\"https://en.wikipedia.org/wiki/Great_Indian_bustard\\\",\\n\",\n",
    "    \"        \\\"https://en.wikipedia.org/wiki/Cypripedioideae\\\",\\n\",\n",
    "    \"        \\\"https://en.wikipedia.org/wiki/Pangolin\\\",\\n\",\n",
    "    \"        \\\"https://en.wikipedia.org/wiki/Spoon-billed_sandpiper\\\",\\n\",\n",
    "    \"        \\\"https://en.wikipedia.org/wiki/Seneca_white_deer\\\",\\n\",\n",
    "    \"        ]\\n\",\n",
    "    \"app = Flask(name)\\n\",\n",
    "    \"\\n\",\n",
    "    \"@app.route('/', methods=['GET'])\\n\",\n",
    "    \"def index():\\n\",\n",
    "    \"    # Home Page\\n\",\n",
    "    \"    return render_tem"
   ]
  }
 ],
 "metadata": {
  "kernelspec": {
   "display_name": "Python 3 (ipykernel)",
   "language": "python",
   "name": "python3"
  },
  "language_info": {
   "codemirror_mode": {
    "name": "ipython",
    "version": 3
   },
   "file_extension": ".py",
   "mimetype": "text/x-python",
   "name": "python",
   "nbconvert_exporter": "python",
   "pygments_lexer": "ipython3",
   "version": "3.9.13"
  }
 },
 "nbformat": 4,
 "nbformat_minor": 5
}
